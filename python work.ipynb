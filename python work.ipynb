{
 "cells": [
  {
   "cell_type": "code",
   "execution_count": 1,
   "metadata": {
    "colab": {
     "base_uri": "https://localhost:8080/"
    },
    "executionInfo": {
     "elapsed": 53,
     "status": "ok",
     "timestamp": 1748269262502,
     "user": {
      "displayName": "Swetha Kutty 57",
      "userId": "01458330665663423213"
     },
     "user_tz": -330
    },
    "id": "iMrPqZugHQcD",
    "outputId": "82e914d6-1a64-4494-b691-d14e2b255817"
   },
   "outputs": [
    {
     "name": "stdout",
     "output_type": "stream",
     "text": [
      "5\n",
      "John\n"
     ]
    }
   ],
   "source": [
    "x = 5\n",
    "y=\"John\"\n",
    "print(x)\n",
    "print(y)"
   ]
  },
  {
   "cell_type": "code",
   "execution_count": 2,
   "metadata": {
    "colab": {
     "base_uri": "https://localhost:8080/"
    },
    "executionInfo": {
     "elapsed": 101,
     "status": "ok",
     "timestamp": 1748269314827,
     "user": {
      "displayName": "Swetha Kutty 57",
      "userId": "01458330665663423213"
     },
     "user_tz": -330
    },
    "id": "NkZdjD2qIygj",
    "outputId": "a4243956-5893-4e65-abaf-4fe834a1e98e"
   },
   "outputs": [
    {
     "name": "stdout",
     "output_type": "stream",
     "text": [
      "Sally\n"
     ]
    }
   ],
   "source": [
    "x = 4\n",
    "x=\"Sally\"\n",
    "print(x)"
   ]
  },
  {
   "cell_type": "code",
   "execution_count": 3,
   "metadata": {
    "colab": {
     "base_uri": "https://localhost:8080/"
    },
    "executionInfo": {
     "elapsed": 15,
     "status": "ok",
     "timestamp": 1748269367887,
     "user": {
      "displayName": "Swetha Kutty 57",
      "userId": "01458330665663423213"
     },
     "user_tz": -330
    },
    "id": "F9cLl-9AJOFi",
    "outputId": "60219849-1124-402a-9a03-9a0bf97454dd"
   },
   "outputs": [
    {
     "name": "stdout",
     "output_type": "stream",
     "text": [
      "3\n",
      "3\n",
      "3.0\n"
     ]
    }
   ],
   "source": [
    "x = str(3)\n",
    "y=int(3)\n",
    "z=float(3)\n",
    "print(x)\n",
    "print(y)\n",
    "print(z)"
   ]
  },
  {
   "cell_type": "code",
   "execution_count": 4,
   "metadata": {
    "colab": {
     "base_uri": "https://localhost:8080/"
    },
    "executionInfo": {
     "elapsed": 76,
     "status": "ok",
     "timestamp": 1748269396248,
     "user": {
      "displayName": "Swetha Kutty 57",
      "userId": "01458330665663423213"
     },
     "user_tz": -330
    },
    "id": "0sqEL_EcK9xs",
    "outputId": "1e795e8b-15c7-42cf-b49f-d8d5f94f705a"
   },
   "outputs": [
    {
     "name": "stdout",
     "output_type": "stream",
     "text": [
      "<class 'int'>\n",
      "<class 'str'>\n"
     ]
    }
   ],
   "source": [
    "x = 5\n",
    "y = \"John\"\n",
    "print(type(x))\n",
    "print(type(y))"
   ]
  },
  {
   "cell_type": "code",
   "execution_count": 6,
   "metadata": {
    "colab": {
     "base_uri": "https://localhost:8080/"
    },
    "executionInfo": {
     "elapsed": 76,
     "status": "ok",
     "timestamp": 1748269507698,
     "user": {
      "displayName": "Swetha Kutty 57",
      "userId": "01458330665663423213"
     },
     "user_tz": -330
    },
    "id": "81wPNnipLQg-",
    "outputId": "93cb0d30-a6a2-49a8-b52b-1d3c735d240a"
   },
   "outputs": [
    {
     "name": "stdout",
     "output_type": "stream",
     "text": [
      "4\n",
      "Sally\n"
     ]
    }
   ],
   "source": [
    "a = 4\n",
    "A=\"Sally\"\n",
    "print(a)\n",
    "print(A)"
   ]
  },
  {
   "cell_type": "code",
   "execution_count": 7,
   "metadata": {
    "colab": {
     "base_uri": "https://localhost:8080/"
    },
    "executionInfo": {
     "elapsed": 38,
     "status": "ok",
     "timestamp": 1748269550713,
     "user": {
      "displayName": "Swetha Kutty 57",
      "userId": "01458330665663423213"
     },
     "user_tz": -330
    },
    "id": "UKa4AZBALmEY",
    "outputId": "0accb62f-3142-4246-df59-e966f9a61b32"
   },
   "outputs": [
    {
     "name": "stdout",
     "output_type": "stream",
     "text": [
      "Orange\n",
      "banana\n",
      "cherry\n"
     ]
    }
   ],
   "source": [
    "x,y,z=\"Orange\", \"banana\",\"cherry\"\n",
    "print(x)\n",
    "print(y)\n",
    "print(z)"
   ]
  },
  {
   "cell_type": "code",
   "execution_count": 8,
   "metadata": {
    "colab": {
     "base_uri": "https://localhost:8080/"
    },
    "executionInfo": {
     "elapsed": 80,
     "status": "ok",
     "timestamp": 1748269574052,
     "user": {
      "displayName": "Swetha Kutty 57",
      "userId": "01458330665663423213"
     },
     "user_tz": -330
    },
    "id": "xNeXh-TOL5Yu",
    "outputId": "4ba0aef4-e0b2-4638-9f16-1620282da620"
   },
   "outputs": [
    {
     "name": "stdout",
     "output_type": "stream",
     "text": [
      "Orange\n",
      "Orange\n",
      "Orange\n"
     ]
    }
   ],
   "source": [
    "x=y=z=\"Orange\"\n",
    "print(x)\n",
    "print(y)\n",
    "print(z)"
   ]
  },
  {
   "cell_type": "code",
   "execution_count": 9,
   "metadata": {
    "colab": {
     "base_uri": "https://localhost:8080/"
    },
    "executionInfo": {
     "elapsed": 79,
     "status": "ok",
     "timestamp": 1748269653016,
     "user": {
      "displayName": "Swetha Kutty 57",
      "userId": "01458330665663423213"
     },
     "user_tz": -330
    },
    "id": "mctmhlSGMRPY",
    "outputId": "fdbfab7d-4b3d-4dae-9792-b3d4d7ac674e"
   },
   "outputs": [
    {
     "name": "stdout",
     "output_type": "stream",
     "text": [
      "apple\n",
      "banana\n",
      "cherry\n"
     ]
    }
   ],
   "source": [
    "fruits=[\"apple\",\"banana\",\"cherry\"]\n",
    "x,y,z=fruits\n",
    "print(x)\n",
    "print(y)\n",
    "print(z)"
   ]
  },
  {
   "cell_type": "code",
   "execution_count": 10,
   "metadata": {
    "colab": {
     "base_uri": "https://localhost:8080/"
    },
    "executionInfo": {
     "elapsed": 15,
     "status": "ok",
     "timestamp": 1748269678223,
     "user": {
      "displayName": "Swetha Kutty 57",
      "userId": "01458330665663423213"
     },
     "user_tz": -330
    },
    "id": "0ayLLTXTMunL",
    "outputId": "bdecc0bb-3946-424d-b7c8-7d3b04796626"
   },
   "outputs": [
    {
     "name": "stdout",
     "output_type": "stream",
     "text": [
      "Python is awesome\n"
     ]
    }
   ],
   "source": [
    "x=\"Python\"\n",
    "y=\"is\"\n",
    "z=\"awesome\"\n",
    "print(x,y,z)"
   ]
  },
  {
   "cell_type": "code",
   "execution_count": 11,
   "metadata": {
    "colab": {
     "base_uri": "https://localhost:8080/"
    },
    "executionInfo": {
     "elapsed": 72,
     "status": "ok",
     "timestamp": 1748269740766,
     "user": {
      "displayName": "Swetha Kutty 57",
      "userId": "01458330665663423213"
     },
     "user_tz": -330
    },
    "id": "gjy41wJuNBIC",
    "outputId": "086dfebd-6689-4fd8-f691-08c3b5ebd585"
   },
   "outputs": [
    {
     "name": "stdout",
     "output_type": "stream",
     "text": [
      "<class 'int'>\n",
      "5\n"
     ]
    }
   ],
   "source": [
    "x=5\n",
    "print(type(x))\n",
    "print(x)"
   ]
  },
  {
   "cell_type": "code",
   "execution_count": 12,
   "metadata": {
    "colab": {
     "base_uri": "https://localhost:8080/"
    },
    "executionInfo": {
     "elapsed": 32,
     "status": "ok",
     "timestamp": 1748269795575,
     "user": {
      "displayName": "Swetha Kutty 57",
      "userId": "01458330665663423213"
     },
     "user_tz": -330
    },
    "id": "Rjj6hhkcNMIm",
    "outputId": "1ed82e46-e62b-4081-8a5f-70bdca590a45"
   },
   "outputs": [
    {
     "name": "stdout",
     "output_type": "stream",
     "text": [
      "<class 'int'>\n",
      "<class 'float'>\n",
      "<class 'complex'>\n"
     ]
    }
   ],
   "source": [
    "x=1\n",
    "y=2.8\n",
    "z=1j\n",
    "print(type(x))\n",
    "print(type(y))\n",
    "print(type(z))"
   ]
  },
  {
   "cell_type": "code",
   "execution_count": 13,
   "metadata": {
    "colab": {
     "base_uri": "https://localhost:8080/"
    },
    "executionInfo": {
     "elapsed": 9,
     "status": "ok",
     "timestamp": 1748269850434,
     "user": {
      "displayName": "Swetha Kutty 57",
      "userId": "01458330665663423213"
     },
     "user_tz": -330
    },
    "id": "vOP95JLUNihl",
    "outputId": "9f353264-1da6-4028-a1b1-40366c541a13"
   },
   "outputs": [
    {
     "name": "stdout",
     "output_type": "stream",
     "text": [
      "<class 'int'>\n",
      "<class 'int'>\n",
      "<class 'int'>\n"
     ]
    }
   ],
   "source": [
    "x=1\n",
    "y=35656222554887711\n",
    "z=-3255522\n",
    "print(type(x))\n",
    "print(type(y))\n",
    "print(type(z))"
   ]
  },
  {
   "cell_type": "code",
   "execution_count": 14,
   "metadata": {
    "colab": {
     "base_uri": "https://localhost:8080/"
    },
    "executionInfo": {
     "elapsed": 15,
     "status": "ok",
     "timestamp": 1748269900186,
     "user": {
      "displayName": "Swetha Kutty 57",
      "userId": "01458330665663423213"
     },
     "user_tz": -330
    },
    "id": "zH4iUmvIODn_",
    "outputId": "703e8bbd-beb4-48eb-8189-579b05ba97a6"
   },
   "outputs": [
    {
     "name": "stdout",
     "output_type": "stream",
     "text": [
      "<class 'float'>\n",
      "<class 'float'>\n",
      "<class 'float'>\n"
     ]
    }
   ],
   "source": [
    "x=1.10\n",
    "y=1.0\n",
    "z=-35.59\n",
    "print(type(x))\n",
    "print(type(y))\n",
    "print(type(z))"
   ]
  },
  {
   "cell_type": "code",
   "execution_count": 15,
   "metadata": {
    "colab": {
     "base_uri": "https://localhost:8080/"
    },
    "executionInfo": {
     "elapsed": 15,
     "status": "ok",
     "timestamp": 1748269921076,
     "user": {
      "displayName": "Swetha Kutty 57",
      "userId": "01458330665663423213"
     },
     "user_tz": -330
    },
    "id": "elheKFLwOeLo",
    "outputId": "c735d01b-2fc6-48ef-b03d-a06757df9cbf"
   },
   "outputs": [
    {
     "name": "stdout",
     "output_type": "stream",
     "text": [
      "<class 'complex'>\n",
      "<class 'complex'>\n",
      "<class 'complex'>\n"
     ]
    }
   ],
   "source": [
    "x=3+5j\n",
    "y=5j\n",
    "z=-5j\n",
    "print(type(x))\n",
    "print(type(y))\n",
    "print(type(z))"
   ]
  },
  {
   "cell_type": "code",
   "execution_count": 16,
   "metadata": {
    "colab": {
     "base_uri": "https://localhost:8080/"
    },
    "executionInfo": {
     "elapsed": 24,
     "status": "ok",
     "timestamp": 1748269957859,
     "user": {
      "displayName": "Swetha Kutty 57",
      "userId": "01458330665663423213"
     },
     "user_tz": -330
    },
    "id": "3mkHHa0vO0Py",
    "outputId": "4bf96b81-5fd2-4ac2-8acb-d02de8bf1a18"
   },
   "outputs": [
    {
     "name": "stdout",
     "output_type": "stream",
     "text": [
      "1.0\n",
      "2\n",
      "(1+0j)\n"
     ]
    }
   ],
   "source": [
    "x=1\n",
    "y=2.8\n",
    "z=1j\n",
    "a=float(x)\n",
    "b=int(y)\n",
    "c=complex(x)\n",
    "print(a)\n",
    "print(b)\n",
    "print(c)"
   ]
  },
  {
   "cell_type": "code",
   "execution_count": 17,
   "metadata": {
    "colab": {
     "base_uri": "https://localhost:8080/"
    },
    "executionInfo": {
     "elapsed": 80,
     "status": "ok",
     "timestamp": 1748269987868,
     "user": {
      "displayName": "Swetha Kutty 57",
      "userId": "01458330665663423213"
     },
     "user_tz": -330
    },
    "id": "UF_iM3QfPdMh",
    "outputId": "cf3f6fd8-acd3-46f0-b038-1c75c6eb45b0"
   },
   "outputs": [
    {
     "name": "stdout",
     "output_type": "stream",
     "text": [
      "1\n",
      "2\n",
      "3\n"
     ]
    }
   ],
   "source": [
    "x=int(1)\n",
    "y=int(2.8)\n",
    "z=int(\"3\")\n",
    "print(x)\n",
    "print(y)\n",
    "print(z)"
   ]
  },
  {
   "cell_type": "code",
   "execution_count": 18,
   "metadata": {
    "colab": {
     "base_uri": "https://localhost:8080/"
    },
    "executionInfo": {
     "elapsed": 64,
     "status": "ok",
     "timestamp": 1748270028007,
     "user": {
      "displayName": "Swetha Kutty 57",
      "userId": "01458330665663423213"
     },
     "user_tz": -330
    },
    "id": "S-_tpfexQWDR",
    "outputId": "632d8734-4493-4a4a-8824-b9e030ad1dfc"
   },
   "outputs": [
    {
     "name": "stdout",
     "output_type": "stream",
     "text": [
      "1.0\n",
      "2.8\n",
      "3.0\n",
      "4.2\n"
     ]
    }
   ],
   "source": [
    "x=float(1)\n",
    "y=float(2.8)\n",
    "z=float(\"3\")\n",
    "w=float(\"4.2\")\n",
    "print(x)\n",
    "print(y)\n",
    "print(z)\n",
    "print(w)"
   ]
  },
  {
   "cell_type": "code",
   "execution_count": 19,
   "metadata": {
    "colab": {
     "base_uri": "https://localhost:8080/"
    },
    "executionInfo": {
     "elapsed": 87,
     "status": "ok",
     "timestamp": 1748270060602,
     "user": {
      "displayName": "Swetha Kutty 57",
      "userId": "01458330665663423213"
     },
     "user_tz": -330
    },
    "id": "yGfVTXO6RJIf",
    "outputId": "62c37ca2-ad0c-44d7-cf53-7dfadf969b11"
   },
   "outputs": [
    {
     "name": "stdout",
     "output_type": "stream",
     "text": [
      "s1\n",
      "2\n",
      "3.0\n"
     ]
    }
   ],
   "source": [
    "x=str(\"s1\")\n",
    "y=str(2)\n",
    "z=str(3.0)\n",
    "print(x)\n",
    "print(y)\n",
    "print(z)"
   ]
  },
  {
   "cell_type": "code",
   "execution_count": 20,
   "metadata": {
    "colab": {
     "base_uri": "https://localhost:8080/"
    },
    "executionInfo": {
     "elapsed": 15,
     "status": "ok",
     "timestamp": 1748270100145,
     "user": {
      "displayName": "Swetha Kutty 57",
      "userId": "01458330665663423213"
     },
     "user_tz": -330
    },
    "id": "SsbfVhXxR2hP",
    "outputId": "865dcc59-103b-4ce0-a4d5-9f0fbff8b21e"
   },
   "outputs": [
    {
     "name": "stdout",
     "output_type": "stream",
     "text": [
      "Hello\n"
     ]
    }
   ],
   "source": [
    "a=\"Hello\"\n",
    "print(a)"
   ]
  },
  {
   "cell_type": "code",
   "execution_count": 21,
   "metadata": {
    "colab": {
     "base_uri": "https://localhost:8080/"
    },
    "executionInfo": {
     "elapsed": 72,
     "status": "ok",
     "timestamp": 1748270120724,
     "user": {
      "displayName": "Swetha Kutty 57",
      "userId": "01458330665663423213"
     },
     "user_tz": -330
    },
    "id": "y9u9jtRYSD38",
    "outputId": "158586dc-43da-4713-d720-179c2f878418"
   },
   "outputs": [
    {
     "name": "stdout",
     "output_type": "stream",
     "text": [
      "Lorem ipsum dolor sit amet,consectetur adipiscing elit,sed do eiusmod tempor incididunt ut labore et dolore magna aliqua.\n"
     ]
    }
   ],
   "source": [
    "a=\"\"\"Lorem ipsum dolor sit amet,consectetur adipiscing elit,sed do eiusmod tempor incididunt ut labore et dolore magna aliqua.\"\"\"\n",
    "print(a)"
   ]
  },
  {
   "cell_type": "code",
   "execution_count": 22,
   "metadata": {
    "colab": {
     "base_uri": "https://localhost:8080/"
    },
    "executionInfo": {
     "elapsed": 49,
     "status": "ok",
     "timestamp": 1748270136813,
     "user": {
      "displayName": "Swetha Kutty 57",
      "userId": "01458330665663423213"
     },
     "user_tz": -330
    },
    "id": "92lrbuUHS1rM",
    "outputId": "9eb74d66-d222-4dc3-f734-c380e8e59b8f"
   },
   "outputs": [
    {
     "name": "stdout",
     "output_type": "stream",
     "text": [
      "e\n"
     ]
    }
   ],
   "source": [
    "a=\"Hello, world!\"\n",
    "print(a[1])"
   ]
  },
  {
   "cell_type": "code",
   "execution_count": 23,
   "metadata": {
    "colab": {
     "base_uri": "https://localhost:8080/"
    },
    "executionInfo": {
     "elapsed": 15,
     "status": "ok",
     "timestamp": 1748241503291,
     "user": {
      "displayName": "Swetha Kutty 57",
      "userId": "01458330665663423213"
     },
     "user_tz": -330
    },
    "id": "90fxEsDMTN6X",
    "outputId": "3d94ac18-68d1-455b-ef3f-5195744de23a"
   },
   "outputs": [
    {
     "name": "stdout",
     "output_type": "stream",
     "text": [
      "b\n",
      "a\n",
      "n\n",
      "a\n",
      "n\n",
      "a\n"
     ]
    }
   ],
   "source": [
    "for x in \"banana\":\n",
    "  print(x)"
   ]
  },
  {
   "cell_type": "code",
   "execution_count": 24,
   "metadata": {
    "colab": {
     "base_uri": "https://localhost:8080/"
    },
    "executionInfo": {
     "elapsed": 42,
     "status": "ok",
     "timestamp": 1748241550662,
     "user": {
      "displayName": "Swetha Kutty 57",
      "userId": "01458330665663423213"
     },
     "user_tz": -330
    },
    "id": "8wH8GhdfUHJX",
    "outputId": "c0d58cb8-389b-4496-9dd0-d59b5d83d774"
   },
   "outputs": [
    {
     "name": "stdout",
     "output_type": "stream",
     "text": [
      "12\n"
     ]
    }
   ],
   "source": [
    "a=\"Hello,World!\"\n",
    "print(len(a))"
   ]
  },
  {
   "cell_type": "code",
   "execution_count": 25,
   "metadata": {
    "colab": {
     "base_uri": "https://localhost:8080/"
    },
    "executionInfo": {
     "elapsed": 15,
     "status": "ok",
     "timestamp": 1748241596429,
     "user": {
      "displayName": "Swetha Kutty 57",
      "userId": "01458330665663423213"
     },
     "user_tz": -330
    },
    "id": "FrzUjpzFUR_Y",
    "outputId": "2abebf5e-6c3f-45e3-e0ae-cbbb7431e2e7"
   },
   "outputs": [
    {
     "name": "stdout",
     "output_type": "stream",
     "text": [
      "True\n"
     ]
    }
   ],
   "source": [
    "txt=\"The best things in life are free!\"\n",
    "print(\"free\" in txt)"
   ]
  },
  {
   "cell_type": "code",
   "execution_count": 26,
   "metadata": {
    "colab": {
     "base_uri": "https://localhost:8080/"
    },
    "executionInfo": {
     "elapsed": 43,
     "status": "ok",
     "timestamp": 1748241683990,
     "user": {
      "displayName": "Swetha Kutty 57",
      "userId": "01458330665663423213"
     },
     "user_tz": -330
    },
    "id": "xbMTSHZDUdhd",
    "outputId": "e755e819-f82a-4f23-eaa6-d1b1eed712a5"
   },
   "outputs": [
    {
     "name": "stdout",
     "output_type": "stream",
     "text": [
      "Yes,'free'is present\n"
     ]
    }
   ],
   "source": [
    "txt=\"The best things in life are free!\"\n",
    "if\"free\"in txt:\n",
    "  print(\"Yes,'free'is present\")"
   ]
  },
  {
   "cell_type": "code",
   "execution_count": 27,
   "metadata": {
    "colab": {
     "base_uri": "https://localhost:8080/"
    },
    "executionInfo": {
     "elapsed": 15,
     "status": "ok",
     "timestamp": 1748241760502,
     "user": {
      "displayName": "Swetha Kutty 57",
      "userId": "01458330665663423213"
     },
     "user_tz": -330
    },
    "id": "3R0MLodsU1l9",
    "outputId": "670c391a-c070-4dfb-9fff-18b348116c6e"
   },
   "outputs": [
    {
     "name": "stdout",
     "output_type": "stream",
     "text": [
      "True\n"
     ]
    }
   ],
   "source": [
    "txt=\"The best things in life are free!\"\n",
    "print(\"expensive\" not in txt)"
   ]
  },
  {
   "cell_type": "code",
   "execution_count": 28,
   "metadata": {
    "colab": {
     "base_uri": "https://localhost:8080/"
    },
    "executionInfo": {
     "elapsed": 15,
     "status": "ok",
     "timestamp": 1748241828277,
     "user": {
      "displayName": "Swetha Kutty 57",
      "userId": "01458330665663423213"
     },
     "user_tz": -330
    },
    "id": "_iRd5i7gVEpf",
    "outputId": "4bde4ed5-e2b1-4a9c-e8e2-e852f34db49a"
   },
   "outputs": [
    {
     "name": "stdout",
     "output_type": "stream",
     "text": [
      "llo\n"
     ]
    }
   ],
   "source": [
    "b=\"Hello, World!\"\n",
    "print(b[2:5])"
   ]
  },
  {
   "cell_type": "code",
   "execution_count": 45,
   "metadata": {
    "colab": {
     "base_uri": "https://localhost:8080/"
    },
    "executionInfo": {
     "elapsed": 63,
     "status": "ok",
     "timestamp": 1748242086020,
     "user": {
      "displayName": "Swetha Kutty 57",
      "userId": "01458330665663423213"
     },
     "user_tz": -330
    },
    "id": "BmhCH07gVWmC",
    "outputId": "ced08bac-3c52-46b4-ec7c-e255ac61762c"
   },
   "outputs": [
    {
     "name": "stdout",
     "output_type": "stream",
     "text": [
      "Hello\n",
      "llo, World!\n",
      "orl\n",
      "HELLO, WORLD!\n",
      "hello, world!\n"
     ]
    }
   ],
   "source": [
    "a=b=\"Hello, World!\"\n",
    "print(b[:5])\n",
    "print(b[2:])\n",
    "print(b[-5:-2])\n",
    "print(a.upper())\n",
    "print(a.lower())"
   ]
  },
  {
   "cell_type": "code",
   "execution_count": 30,
   "metadata": {
    "colab": {
     "base_uri": "https://localhost:8080/"
    },
    "executionInfo": {
     "elapsed": 16,
     "status": "ok",
     "timestamp": 1748242241099,
     "user": {
      "displayName": "Swetha Kutty 57",
      "userId": "01458330665663423213"
     },
     "user_tz": -330
    },
    "id": "oXTqLGIuWVFo",
    "outputId": "539c80a5-6876-4ede-886c-e8a6a4bd9530"
   },
   "outputs": [
    {
     "name": "stdout",
     "output_type": "stream",
     "text": [
      "Hello, World!\n",
      "Jello, World!\n",
      "['Hello', ' World!']\n"
     ]
    }
   ],
   "source": [
    "a=\"Hello, World!\"\n",
    "print(a.strip())\n",
    "print(a.replace(\"H\",\"J\"))\n",
    "print(a.split(\",\"))"
   ]
  },
  {
   "cell_type": "code",
   "execution_count": 31,
   "metadata": {
    "colab": {
     "base_uri": "https://localhost:8080/"
    },
    "executionInfo": {
     "elapsed": 26,
     "status": "ok",
     "timestamp": 1748242316529,
     "user": {
      "displayName": "Swetha Kutty 57",
      "userId": "01458330665663423213"
     },
     "user_tz": -330
    },
    "id": "231Y0Q72W8se",
    "outputId": "4d171b6c-a57e-4b14-bdfc-9cbb49740449"
   },
   "outputs": [
    {
     "name": "stdout",
     "output_type": "stream",
     "text": [
      "HelloWorld\n"
     ]
    }
   ],
   "source": [
    "a=\"Hello\"\n",
    "b=\"World\"\n",
    "c=a + b\n",
    "print(c)"
   ]
  },
  {
   "cell_type": "code",
   "execution_count": 32,
   "metadata": {
    "colab": {
     "base_uri": "https://localhost:8080/"
    },
    "executionInfo": {
     "elapsed": 41,
     "status": "ok",
     "timestamp": 1748242393056,
     "user": {
      "displayName": "Swetha Kutty 57",
      "userId": "01458330665663423213"
     },
     "user_tz": -330
    },
    "id": "u9nnAxm-XNBn",
    "outputId": "db1a5049-982a-463d-8f25-a5a7eeffe36b"
   },
   "outputs": [
    {
     "name": "stdout",
     "output_type": "stream",
     "text": [
      "True\n",
      "False\n",
      "False\n"
     ]
    }
   ],
   "source": [
    "print(10>9)\n",
    "print(10==9)\n",
    "print(10<9)"
   ]
  },
  {
   "cell_type": "code",
   "execution_count": 33,
   "metadata": {
    "colab": {
     "base_uri": "https://localhost:8080/"
    },
    "executionInfo": {
     "elapsed": 79,
     "status": "ok",
     "timestamp": 1748242445107,
     "user": {
      "displayName": "Swetha Kutty 57",
      "userId": "01458330665663423213"
     },
     "user_tz": -330
    },
    "id": "GuWq7P6HXfZL",
    "outputId": "ef57db94-1728-454e-8a18-6baeb54936b6"
   },
   "outputs": [
    {
     "name": "stdout",
     "output_type": "stream",
     "text": [
      "b is not greater than a\n"
     ]
    }
   ],
   "source": [
    "a=200\n",
    "b=33\n",
    "if b>a:\n",
    "  print(\"b is greater than a\")\n",
    "else:\n",
    "  print(\"b is not greater than a\")"
   ]
  },
  {
   "cell_type": "code",
   "execution_count": 34,
   "metadata": {
    "colab": {
     "base_uri": "https://localhost:8080/"
    },
    "executionInfo": {
     "elapsed": 13,
     "status": "ok",
     "timestamp": 1748242485249,
     "user": {
      "displayName": "Swetha Kutty 57",
      "userId": "01458330665663423213"
     },
     "user_tz": -330
    },
    "id": "QInz6IbxXtmF",
    "outputId": "e9331664-0b3e-41d1-eb26-5e255853b401"
   },
   "outputs": [
    {
     "name": "stdout",
     "output_type": "stream",
     "text": [
      "True\n",
      "True\n"
     ]
    }
   ],
   "source": [
    "print(bool(\"Hello\"))\n",
    "print(bool(15))"
   ]
  },
  {
   "cell_type": "code",
   "execution_count": 35,
   "metadata": {
    "colab": {
     "base_uri": "https://localhost:8080/"
    },
    "executionInfo": {
     "elapsed": 15,
     "status": "ok",
     "timestamp": 1748242572759,
     "user": {
      "displayName": "Swetha Kutty 57",
      "userId": "01458330665663423213"
     },
     "user_tz": -330
    },
    "id": "lxk6a7TJX1py",
    "outputId": "29297f45-4b97-4d5a-dfeb-d3cd1fd9596e"
   },
   "outputs": [
    {
     "name": "stdout",
     "output_type": "stream",
     "text": [
      "['apple', 'banana', 'cherry']\n"
     ]
    }
   ],
   "source": [
    "mylist=[\"apple\",\"banana\",\"cherry\"]\n",
    "print(mylist)"
   ]
  },
  {
   "cell_type": "code",
   "execution_count": 36,
   "metadata": {
    "colab": {
     "base_uri": "https://localhost:8080/"
    },
    "executionInfo": {
     "elapsed": 63,
     "status": "ok",
     "timestamp": 1748242660269,
     "user": {
      "displayName": "Swetha Kutty 57",
      "userId": "01458330665663423213"
     },
     "user_tz": -330
    },
    "id": "SL2dKnm8YLI6",
    "outputId": "4d94fcec-8cdf-48ee-f55a-9a07f3cc25a4"
   },
   "outputs": [
    {
     "name": "stdout",
     "output_type": "stream",
     "text": [
      "['apple', 'banana', 'cherry']\n"
     ]
    }
   ],
   "source": [
    "thislist=[\"apple\",\"banana\",\"cherry\"]\n",
    "print(thislist)"
   ]
  },
  {
   "cell_type": "code",
   "execution_count": 37,
   "metadata": {
    "colab": {
     "base_uri": "https://localhost:8080/"
    },
    "executionInfo": {
     "elapsed": 10,
     "status": "ok",
     "timestamp": 1748242719217,
     "user": {
      "displayName": "Swetha Kutty 57",
      "userId": "01458330665663423213"
     },
     "user_tz": -330
    },
    "id": "S3QdOLyxYgQK",
    "outputId": "996f9b75-d3a1-42fa-a5b2-e3c184c96cb8"
   },
   "outputs": [
    {
     "name": "stdout",
     "output_type": "stream",
     "text": [
      "['apple', 'banana', 'cherry', 'apple', 'cherry']\n"
     ]
    }
   ],
   "source": [
    "thislist=[\"apple\",\"banana\",\"cherry\",\"apple\",\"cherry\"]\n",
    "print(thislist)"
   ]
  },
  {
   "cell_type": "code",
   "execution_count": 38,
   "metadata": {
    "colab": {
     "base_uri": "https://localhost:8080/"
    },
    "executionInfo": {
     "elapsed": 43,
     "status": "ok",
     "timestamp": 1748242764500,
     "user": {
      "displayName": "Swetha Kutty 57",
      "userId": "01458330665663423213"
     },
     "user_tz": -330
    },
    "id": "7-6CZIZLYunO",
    "outputId": "807883e4-84ba-4035-ede7-512bf520c825"
   },
   "outputs": [
    {
     "name": "stdout",
     "output_type": "stream",
     "text": [
      "3\n"
     ]
    }
   ],
   "source": [
    "thislist=[\"apple\",\"banana\",\"cherry\"]\n",
    "print(len(thislist))"
   ]
  },
  {
   "cell_type": "code",
   "execution_count": 39,
   "metadata": {
    "colab": {
     "base_uri": "https://localhost:8080/"
    },
    "executionInfo": {
     "elapsed": 40,
     "status": "ok",
     "timestamp": 1748242867231,
     "user": {
      "displayName": "Swetha Kutty 57",
      "userId": "01458330665663423213"
     },
     "user_tz": -330
    },
    "id": "thvimOjkY-jX",
    "outputId": "250e433e-fbeb-4fd2-a956-852f4d7c222a"
   },
   "outputs": [
    {
     "name": "stdout",
     "output_type": "stream",
     "text": [
      "['apple', 'banana', 'cherry']\n",
      "[1, 5, 7, 9, 3]\n",
      "[True, False, False]\n"
     ]
    }
   ],
   "source": [
    "list1=[\"apple\",\"banana\",\"cherry\"]\n",
    "list2=[1,5,7,9,3]\n",
    "list3=[True,False,False]\n",
    "print(list1)\n",
    "print(list2)\n",
    "print(list3)"
   ]
  },
  {
   "cell_type": "code",
   "execution_count": 40,
   "metadata": {
    "colab": {
     "base_uri": "https://localhost:8080/"
    },
    "executionInfo": {
     "elapsed": 9,
     "status": "ok",
     "timestamp": 1748242902501,
     "user": {
      "displayName": "Swetha Kutty 57",
      "userId": "01458330665663423213"
     },
     "user_tz": -330
    },
    "id": "ePjqf3OvZUhQ",
    "outputId": "dcea1c54-c4ec-4432-b6b0-5a9fbac087c4"
   },
   "outputs": [
    {
     "name": "stdout",
     "output_type": "stream",
     "text": [
      "['abc', 34, True, 40, 'male']\n"
     ]
    }
   ],
   "source": [
    "list1=[\"abc\",34,True,40,\"male\"]\n",
    "print(list1)"
   ]
  },
  {
   "cell_type": "code",
   "execution_count": 41,
   "metadata": {
    "colab": {
     "base_uri": "https://localhost:8080/"
    },
    "executionInfo": {
     "elapsed": 15,
     "status": "ok",
     "timestamp": 1748242990586,
     "user": {
      "displayName": "Swetha Kutty 57",
      "userId": "01458330665663423213"
     },
     "user_tz": -330
    },
    "id": "fDY7S9BRZbas",
    "outputId": "2365535a-b46d-4321-dd51-a25064f8cf47"
   },
   "outputs": [
    {
     "name": "stdout",
     "output_type": "stream",
     "text": [
      "['apple', 'banana', 'cherry']\n"
     ]
    }
   ],
   "source": [
    "mylist=[\"apple\",\"banana\",\"cherry\"]\n",
    "print(mylist)"
   ]
  },
  {
   "cell_type": "code",
   "execution_count": 46,
   "metadata": {
    "colab": {
     "base_uri": "https://localhost:8080/"
    },
    "executionInfo": {
     "elapsed": 41,
     "status": "ok",
     "timestamp": 1748243159288,
     "user": {
      "displayName": "Swetha Kutty 57",
      "userId": "01458330665663423213"
     },
     "user_tz": -330
    },
    "id": "ylp5xZRIZyeh",
    "outputId": "33c40c96-e737-49d5-998c-90b62205ec10"
   },
   "outputs": [
    {
     "name": "stdout",
     "output_type": "stream",
     "text": [
      "banana\n",
      "mango\n",
      "['cherry', 'orange', 'kiwi']\n",
      "['apple', 'banana', 'cherry', 'orange']\n",
      "['orange', 'kiwi', 'melon']\n"
     ]
    }
   ],
   "source": [
    "thislist=list((\"apple\",\"banana\",\"cherry\",\"orange\",\"kiwi\",\"melon\",\"mango\"))\n",
    "print(thislist[1])\n",
    "print(thislist[-1])\n",
    "print(thislist[2:5])\n",
    "print(thislist[:4])\n",
    "print(thislist[-4:-1])"
   ]
  },
  {
   "cell_type": "code",
   "execution_count": 47,
   "metadata": {
    "colab": {
     "base_uri": "https://localhost:8080/"
    },
    "executionInfo": {
     "elapsed": 53,
     "status": "ok",
     "timestamp": 1748243438752,
     "user": {
      "displayName": "Swetha Kutty 57",
      "userId": "01458330665663423213"
     },
     "user_tz": -330
    },
    "id": "4unknZeOaeB5",
    "outputId": "14a9fa8b-0208-4b0c-9499-cfbb781e5429"
   },
   "outputs": [
    {
     "name": "stdout",
     "output_type": "stream",
     "text": [
      "['apple', 'banana', 'cherry', 'orange']\n",
      "['apple', 'orange', 'banana', 'cherry', 'orange']\n",
      "['apple', 'orange', 'cherry', 'orange']\n",
      "apple\n",
      "apple\n",
      "orange\n",
      "cherry\n",
      "orange\n",
      "orange\n",
      "apple\n",
      "orange\n",
      "cherry\n",
      "orange\n",
      "cherry\n",
      "apple\n",
      "orange\n",
      "cherry\n",
      "orange\n",
      "orange\n",
      "apple\n",
      "orange\n",
      "cherry\n",
      "orange\n"
     ]
    }
   ],
   "source": [
    "thislist=[\"apple\",\"banana\",\"cherry\"]\n",
    "thislist.append(\"orange\")\n",
    "print(thislist)\n",
    "thislist.insert(1,\"orange\")\n",
    "print(thislist)\n",
    "thislist.remove(\"banana\")\n",
    "print(thislist)\n",
    "for x in thislist:\n",
    "  print(x)\n",
    "  for i in range(len(thislist)):\n",
    "    print(thislist[i])"
   ]
  },
  {
   "cell_type": "code",
   "execution_count": 48,
   "metadata": {
    "colab": {
     "base_uri": "https://localhost:8080/"
    },
    "executionInfo": {
     "elapsed": 19,
     "status": "ok",
     "timestamp": 1748243597211,
     "user": {
      "displayName": "Swetha Kutty 57",
      "userId": "01458330665663423213"
     },
     "user_tz": -330
    },
    "id": "6wnVGGl5bfts",
    "outputId": "bceab420-d23f-4617-a889-fdbf0e320115"
   },
   "outputs": [
    {
     "name": "stdout",
     "output_type": "stream",
     "text": [
      "('apple', 'banana', 'cherry')\n",
      "cherry\n",
      "banana\n"
     ]
    }
   ],
   "source": [
    "mytuple=(\"apple\",\"banana\",\"cherry\")\n",
    "thistuple=(\"apple\",\"banana\",\"cherry\")\n",
    "print(thistuple)\n",
    "print(thistuple[-1])\n",
    "print(thistuple[1])\n"
   ]
  },
  {
   "cell_type": "code",
   "execution_count": 49,
   "metadata": {
    "colab": {
     "base_uri": "https://localhost:8080/"
    },
    "executionInfo": {
     "elapsed": 18,
     "status": "ok",
     "timestamp": 1748243658094,
     "user": {
      "displayName": "Swetha Kutty 57",
      "userId": "01458330665663423213"
     },
     "user_tz": -330
    },
    "id": "MsvWagYQcFsm",
    "outputId": "f83664a7-c098-46ee-d265-ccc9cd3e7d76"
   },
   "outputs": [
    {
     "name": "stdout",
     "output_type": "stream",
     "text": [
      "('apple', 'banana', 'cherry', 'orange')\n"
     ]
    }
   ],
   "source": [
    "thistuple=(\"apple\",\"banana\",\"cherry\",\"orange\",\"kiwi\",\"melon\",\"mango\")\n",
    "print(thistuple[:4])"
   ]
  },
  {
   "cell_type": "code",
   "execution_count": 50,
   "metadata": {
    "colab": {
     "base_uri": "https://localhost:8080/"
    },
    "executionInfo": {
     "elapsed": 48,
     "status": "ok",
     "timestamp": 1748243766310,
     "user": {
      "displayName": "Swetha Kutty 57",
      "userId": "01458330665663423213"
     },
     "user_tz": -330
    },
    "id": "N6T53Cq8cUxF",
    "outputId": "fb0299fe-31ea-4de7-92e7-49632cab7778"
   },
   "outputs": [
    {
     "name": "stdout",
     "output_type": "stream",
     "text": [
      "{'apple', 'cherry', 'banana'}\n"
     ]
    }
   ],
   "source": [
    "myset={\"apple\",\"banana\",\"cherry\"}\n",
    "thisset={\"apple\",\"banana\",\"cherry\"}\n",
    "print(thisset)"
   ]
  },
  {
   "cell_type": "code",
   "execution_count": 51,
   "metadata": {
    "colab": {
     "base_uri": "https://localhost:8080/"
    },
    "executionInfo": {
     "elapsed": 63,
     "status": "ok",
     "timestamp": 1748243863899,
     "user": {
      "displayName": "Swetha Kutty 57",
      "userId": "01458330665663423213"
     },
     "user_tz": -330
    },
    "id": "BLb-OTsmcuQF",
    "outputId": "e4b43a1e-c00d-46af-d828-1e9920909fef"
   },
   "outputs": [
    {
     "name": "stdout",
     "output_type": "stream",
     "text": [
      "{True, 2, 'apple', 'cherry', 'banana'}\n",
      "('apple', 'banana', 'cherry')\n"
     ]
    }
   ],
   "source": [
    "thisset={\"apple\",\"banana\",\"cherry\",True,1,2}\n",
    "print(thisset)\n",
    "thisset=(\"apple\",\"banana\",\"cherry\")\n",
    "print(thisset)"
   ]
  },
  {
   "cell_type": "code",
   "execution_count": 52,
   "metadata": {
    "colab": {
     "base_uri": "https://localhost:8080/"
    },
    "executionInfo": {
     "elapsed": 78,
     "status": "ok",
     "timestamp": 1748243888070,
     "user": {
      "displayName": "Swetha Kutty 57",
      "userId": "01458330665663423213"
     },
     "user_tz": -330
    },
    "id": "genQSGbZdGmo",
    "outputId": "3009584b-db02-41ea-85a5-9fa3a54e04a3"
   },
   "outputs": [
    {
     "name": "stdout",
     "output_type": "stream",
     "text": [
      "{'apple', 'cherry', 'banana'}\n",
      "{1, 3, 5, 7, 9}\n",
      "{False, True}\n"
     ]
    }
   ],
   "source": [
    "set1={\"apple\",\"banana\",\"cherry\"}\n",
    "set2={1,5,7,9,3}\n",
    "set3={True,False,False}\n",
    "print(set1)\n",
    "print(set2)\n",
    "print(set3)"
   ]
  },
  {
   "cell_type": "code",
   "execution_count": 53,
   "metadata": {
    "colab": {
     "base_uri": "https://localhost:8080/"
    },
    "executionInfo": {
     "elapsed": 42,
     "status": "ok",
     "timestamp": 1748243917844,
     "user": {
      "displayName": "Swetha Kutty 57",
      "userId": "01458330665663423213"
     },
     "user_tz": -330
    },
    "id": "Bz7ComwgdMAN",
    "outputId": "94571fb1-488b-4233-9f44-7cf9be6fd95e"
   },
   "outputs": [
    {
     "name": "stdout",
     "output_type": "stream",
     "text": [
      "{'abc,34,True,40,male'}\n"
     ]
    }
   ],
   "source": [
    "set1={\"abc,34,True,40,male\"}\n",
    "print(set1)"
   ]
  },
  {
   "cell_type": "code",
   "execution_count": 54,
   "metadata": {
    "colab": {
     "base_uri": "https://localhost:8080/"
    },
    "executionInfo": {
     "elapsed": 49,
     "status": "ok",
     "timestamp": 1748244003547,
     "user": {
      "displayName": "Swetha Kutty 57",
      "userId": "01458330665663423213"
     },
     "user_tz": -330
    },
    "id": "JeGEaIu-dTpT",
    "outputId": "814bb8a6-3958-4532-82a9-aa44117b4e16"
   },
   "outputs": [
    {
     "name": "stdout",
     "output_type": "stream",
     "text": [
      "apple\n",
      "cherry\n",
      "banana\n"
     ]
    }
   ],
   "source": [
    "thisset={\"apple\",\"banana\",\"cherry\"}\n",
    "for x in thisset:\n",
    "  print(x)"
   ]
  },
  {
   "cell_type": "code",
   "execution_count": 55,
   "metadata": {
    "colab": {
     "base_uri": "https://localhost:8080/"
    },
    "executionInfo": {
     "elapsed": 16,
     "status": "ok",
     "timestamp": 1748244172168,
     "user": {
      "displayName": "Swetha Kutty 57",
      "userId": "01458330665663423213"
     },
     "user_tz": -330
    },
    "id": "NLaktL0Sdpky",
    "outputId": "7686781e-c427-445e-f47c-0b3522c9993e"
   },
   "outputs": [
    {
     "name": "stdout",
     "output_type": "stream",
     "text": [
      "{'c', 1, 2, 3, 'b', 'a'}\n"
     ]
    }
   ],
   "source": [
    "set1={\"a\",\"b\",\"c\"}\n",
    "set2={1,2,3}\n",
    "set3=set1.union(set2)\n",
    "print(set3)"
   ]
  },
  {
   "cell_type": "code",
   "execution_count": null,
   "metadata": {
    "colab": {
     "base_uri": "https://localhost:8080/"
    },
    "executionInfo": {
     "elapsed": 53,
     "status": "ok",
     "timestamp": 1748244201231,
     "user": {
      "displayName": "Swetha Kutty 57",
      "userId": "01458330665663423213"
     },
     "user_tz": -330
    },
    "id": "v99aJFDgeFCK",
    "outputId": "510c6b67-3d16-4877-996e-d75143af5b86"
   },
   "outputs": [
    {
     "name": "stdout",
     "output_type": "stream",
     "text": [
      "{1, 'c', 2, 3, 'a', 'b'}\n"
     ]
    }
   ],
   "source": [
    "set1={\"a\",\"b\",\"c\"}\n",
    "set2={1,2,3}\n",
    "set3=set1|set2\n",
    "print(set3)"
   ]
  },
  {
   "cell_type": "code",
   "execution_count": null,
   "metadata": {
    "colab": {
     "base_uri": "https://localhost:8080/"
    },
    "executionInfo": {
     "elapsed": 88,
     "status": "ok",
     "timestamp": 1748244367252,
     "user": {
      "displayName": "Swetha Kutty 57",
      "userId": "01458330665663423213"
     },
     "user_tz": -330
    },
    "id": "hmF7NV0WeY1n",
    "outputId": "ae1d78df-5791-40ab-d309-06eca4e23247"
   },
   "outputs": [
    {
     "name": "stdout",
     "output_type": "stream",
     "text": [
      "{'cherry', 1, 'c', 2, 3, 'Elena', 'apple', 'a', 'banana', 'John', 'b'}\n"
     ]
    }
   ],
   "source": [
    "set1={\"a\",\"b\",\"c\"}\n",
    "set2={1,2,3}\n",
    "set3={\"John\",\"Elena\"}\n",
    "set4={\"apple\",\"banana\",\"cherry\"}\n",
    "myset=set1.union(set2,set3,set4)\n",
    "print(myset)"
   ]
  },
  {
   "cell_type": "code",
   "execution_count": null,
   "metadata": {
    "colab": {
     "base_uri": "https://localhost:8080/"
    },
    "executionInfo": {
     "elapsed": 15,
     "status": "ok",
     "timestamp": 1748266162009,
     "user": {
      "displayName": "Swetha Kutty 57",
      "userId": "01458330665663423213"
     },
     "user_tz": -330
    },
    "id": "wgkjS4MZfCAj",
    "outputId": "1fd30ede-f322-48fb-8098-9c46c4fbb06a"
   },
   "outputs": [
    {
     "name": "stdout",
     "output_type": "stream",
     "text": [
      "{'brand': 'Ford', 'model': 'Mustang', 'year': 1964}\n",
      "Ford\n"
     ]
    }
   ],
   "source": [
    "thisdict={\n",
    "    \"brand\":\"Ford\",\n",
    "    \"model\":\"Mustang\",\n",
    "    \"year\":1964\n",
    "}\n",
    "print(thisdict)\n",
    "print(thisdict[\"brand\"])"
   ]
  },
  {
   "cell_type": "code",
   "execution_count": null,
   "metadata": {
    "colab": {
     "base_uri": "https://localhost:8080/"
    },
    "executionInfo": {
     "elapsed": 41,
     "status": "ok",
     "timestamp": 1748266278748,
     "user": {
      "displayName": "Swetha Kutty 57",
      "userId": "01458330665663423213"
     },
     "user_tz": -330
    },
    "id": "Li2IxonSyK6q",
    "outputId": "cf7912b2-73db-4b11-b2ee-38c77a0d8639"
   },
   "outputs": [
    {
     "name": "stdout",
     "output_type": "stream",
     "text": [
      "{'brand': 'Ford', 'model': 'Mustang', 'year': 2020}\n",
      "3\n"
     ]
    }
   ],
   "source": [
    "thisdict={\n",
    "    \"brand\":\"Ford\",\n",
    "    \"model\":\"Mustang\",\n",
    "    \"year\":1964,\n",
    "    \"year\":2020\n",
    "}\n",
    "print(thisdict)\n",
    "print(len(thisdict))"
   ]
  },
  {
   "cell_type": "code",
   "execution_count": null,
   "metadata": {
    "colab": {
     "base_uri": "https://localhost:8080/"
    },
    "executionInfo": {
     "elapsed": 82,
     "status": "ok",
     "timestamp": 1748266325588,
     "user": {
      "displayName": "Swetha Kutty 57",
      "userId": "01458330665663423213"
     },
     "user_tz": -330
    },
    "id": "KNk-6LxOynAg",
    "outputId": "4ff8870f-36dd-439c-e3e3-16f02a0fafe3"
   },
   "outputs": [
    {
     "name": "stdout",
     "output_type": "stream",
     "text": [
      "{'brand': 'Ford', 'electric': False, 'year': 1964, 'colors': ['red', 'white', 'blue']}\n"
     ]
    }
   ],
   "source": [
    "thisdict={\n",
    "    \"brand\":\"Ford\",\n",
    "    \"electric\":False,\n",
    "    \"year\":1964,\n",
    "    \"colors\":[\"red\",\"white\",\"blue\"]\n",
    "}\n",
    "print(thisdict)"
   ]
  },
  {
   "cell_type": "code",
   "execution_count": null,
   "metadata": {
    "colab": {
     "base_uri": "https://localhost:8080/"
    },
    "executionInfo": {
     "elapsed": 20,
     "status": "ok",
     "timestamp": 1748266362426,
     "user": {
      "displayName": "Swetha Kutty 57",
      "userId": "01458330665663423213"
     },
     "user_tz": -330
    },
    "id": "v0VR5FooyyLv",
    "outputId": "1d461191-f06b-473f-fd07-8348e0a5b48f"
   },
   "outputs": [
    {
     "name": "stdout",
     "output_type": "stream",
     "text": [
      "{'name': 'John', 'age': 36, 'country': 'Norway'}\n"
     ]
    }
   ],
   "source": [
    "thisdict=dict(name=\"John\",age=36,country=\"Norway\")\n",
    "print(thisdict)"
   ]
  },
  {
   "cell_type": "code",
   "execution_count": null,
   "metadata": {
    "colab": {
     "base_uri": "https://localhost:8080/"
    },
    "executionInfo": {
     "elapsed": 64,
     "status": "ok",
     "timestamp": 1748266432799,
     "user": {
      "displayName": "Swetha Kutty 57",
      "userId": "01458330665663423213"
     },
     "user_tz": -330
    },
    "id": "nP97iXzLy64q",
    "outputId": "9eb4a697-0dc6-449b-ffa2-3fe1ccf31d83"
   },
   "outputs": [
    {
     "name": "stdout",
     "output_type": "stream",
     "text": [
      "b is greater than a\n"
     ]
    }
   ],
   "source": [
    "a=33\n",
    "b=200\n",
    "if b>a:\n",
    "  print(\"b is greater than a\")"
   ]
  },
  {
   "cell_type": "code",
   "execution_count": null,
   "metadata": {
    "colab": {
     "base_uri": "https://localhost:8080/"
    },
    "executionInfo": {
     "elapsed": 53,
     "status": "ok",
     "timestamp": 1748266505062,
     "user": {
      "displayName": "Swetha Kutty 57",
      "userId": "01458330665663423213"
     },
     "user_tz": -330
    },
    "id": "vExmi2uzzMCn",
    "outputId": "febe7d6a-7391-4521-fe2a-73e5a873ea30"
   },
   "outputs": [
    {
     "name": "stdout",
     "output_type": "stream",
     "text": [
      "a and b are equal\n"
     ]
    }
   ],
   "source": [
    "a=33\n",
    "b=33\n",
    "if b>a:\n",
    "  print(\"b is greater than a\")\n",
    "elif a==b:\n",
    "  print(\"a and b are equal\")"
   ]
  },
  {
   "cell_type": "code",
   "execution_count": null,
   "metadata": {
    "colab": {
     "base_uri": "https://localhost:8080/"
    },
    "executionInfo": {
     "elapsed": 47,
     "status": "ok",
     "timestamp": 1748266563940,
     "user": {
      "displayName": "Swetha Kutty 57",
      "userId": "01458330665663423213"
     },
     "user_tz": -330
    },
    "id": "g7jw8usBzeYJ",
    "outputId": "ce9d8cb3-fbd4-4fc3-c48f-c097d12c465a"
   },
   "outputs": [
    {
     "name": "stdout",
     "output_type": "stream",
     "text": [
      "a is greater than b\n"
     ]
    }
   ],
   "source": [
    "a=200\n",
    "b=33\n",
    "if b>a:\n",
    "  print(\"b is greater than a\")\n",
    "elif a==b:\n",
    "  print(\"a and b are equal\")\n",
    "else:\n",
    "  print(\"a is greater than b\")"
   ]
  },
  {
   "cell_type": "code",
   "execution_count": null,
   "metadata": {
    "colab": {
     "base_uri": "https://localhost:8080/"
    },
    "executionInfo": {
     "elapsed": 55,
     "status": "ok",
     "timestamp": 1748266661691,
     "user": {
      "displayName": "Swetha Kutty 57",
      "userId": "01458330665663423213"
     },
     "user_tz": -330
    },
    "id": "BSTdNLh1zwU3",
    "outputId": "ae509377-cc82-4b63-c32e-0b873ce52d84"
   },
   "outputs": [
    {
     "name": "stdout",
     "output_type": "stream",
     "text": [
      "b is not greater than a\n"
     ]
    }
   ],
   "source": [
    "a=200\n",
    "b=33\n",
    "if b>a:\n",
    "  print(\"b is greater than a\")\n",
    "else:\n",
    "  print(\"b is not greater than a\")"
   ]
  },
  {
   "cell_type": "code",
   "execution_count": null,
   "metadata": {
    "colab": {
     "base_uri": "https://localhost:8080/"
    },
    "executionInfo": {
     "elapsed": 17,
     "status": "ok",
     "timestamp": 1748266707611,
     "user": {
      "displayName": "Swetha Kutty 57",
      "userId": "01458330665663423213"
     },
     "user_tz": -330
    },
    "id": "ZMHj9J5p0FKG",
    "outputId": "1eb1c705-0bfb-4ba0-dc78-61a58f487142"
   },
   "outputs": [
    {
     "name": "stdout",
     "output_type": "stream",
     "text": [
      "1\n",
      "2\n",
      "3\n",
      "4\n",
      "5\n"
     ]
    }
   ],
   "source": [
    "i=1\n",
    "while i<6:\n",
    "  print(i)\n",
    "  i+=1"
   ]
  },
  {
   "cell_type": "code",
   "execution_count": null,
   "metadata": {
    "colab": {
     "base_uri": "https://localhost:8080/"
    },
    "executionInfo": {
     "elapsed": 14,
     "status": "ok",
     "timestamp": 1748266789068,
     "user": {
      "displayName": "Swetha Kutty 57",
      "userId": "01458330665663423213"
     },
     "user_tz": -330
    },
    "id": "TUkxSGhU0QH-",
    "outputId": "02a823cb-fe41-46bc-ebf2-ebd7832212af"
   },
   "outputs": [
    {
     "name": "stdout",
     "output_type": "stream",
     "text": [
      "1\n",
      "2\n",
      "3\n"
     ]
    }
   ],
   "source": [
    "i=1\n",
    "while i<6:\n",
    "  print(i)\n",
    "  if i==3:\n",
    "    break\n",
    "  i+=1"
   ]
  },
  {
   "cell_type": "code",
   "execution_count": null,
   "metadata": {
    "colab": {
     "base_uri": "https://localhost:8080/"
    },
    "executionInfo": {
     "elapsed": 12,
     "status": "ok",
     "timestamp": 1748266822249,
     "user": {
      "displayName": "Swetha Kutty 57",
      "userId": "01458330665663423213"
     },
     "user_tz": -330
    },
    "id": "vFfjHwIs0jCE",
    "outputId": "f2b63744-a647-4ad0-e924-e87afe932598"
   },
   "outputs": [
    {
     "name": "stdout",
     "output_type": "stream",
     "text": [
      "1\n",
      "2\n",
      "4\n",
      "5\n",
      "6\n"
     ]
    }
   ],
   "source": [
    "i=0\n",
    "while i<6:\n",
    "    i+=1\n",
    "    if i==3:\n",
    "      continue\n",
    "    print(i)"
   ]
  },
  {
   "cell_type": "code",
   "execution_count": null,
   "metadata": {
    "colab": {
     "base_uri": "https://localhost:8080/"
    },
    "executionInfo": {
     "elapsed": 12,
     "status": "ok",
     "timestamp": 1748266899099,
     "user": {
      "displayName": "Swetha Kutty 57",
      "userId": "01458330665663423213"
     },
     "user_tz": -330
    },
    "id": "vMNMIbeO0rZm",
    "outputId": "20886799-1112-4d23-b135-4c92f4349b21"
   },
   "outputs": [
    {
     "name": "stdout",
     "output_type": "stream",
     "text": [
      "1\n",
      "2\n",
      "3\n",
      "4\n",
      "5\n",
      "i is no longer less than 6\n"
     ]
    }
   ],
   "source": [
    "i=1\n",
    "while i<6:\n",
    "  print(i)\n",
    "  i+=1\n",
    "else:\n",
    "  print(\"i is no longer less than 6\")"
   ]
  },
  {
   "cell_type": "code",
   "execution_count": null,
   "metadata": {
    "colab": {
     "base_uri": "https://localhost:8080/"
    },
    "executionInfo": {
     "elapsed": 84,
     "status": "ok",
     "timestamp": 1748266977980,
     "user": {
      "displayName": "Swetha Kutty 57",
      "userId": "01458330665663423213"
     },
     "user_tz": -330
    },
    "id": "KZC2jJ0J0-Te",
    "outputId": "3c05a920-9328-4e7e-a33b-3a998ee08c4d"
   },
   "outputs": [
    {
     "name": "stdout",
     "output_type": "stream",
     "text": [
      "apple\n",
      "banana\n",
      "cherry\n"
     ]
    }
   ],
   "source": [
    "fruits=[\"apple\",\"banana\",\"cherry\"]\n",
    "for x in fruits:\n",
    "  print(x)"
   ]
  },
  {
   "cell_type": "code",
   "execution_count": null,
   "metadata": {
    "colab": {
     "base_uri": "https://localhost:8080/"
    },
    "executionInfo": {
     "elapsed": 23,
     "status": "ok",
     "timestamp": 1748267121402,
     "user": {
      "displayName": "Swetha Kutty 57",
      "userId": "01458330665663423213"
     },
     "user_tz": -330
    },
    "id": "OOOPVdPF1RNo",
    "outputId": "57f75e6f-a4bb-43a8-8b04-5f0b3391c980"
   },
   "outputs": [
    {
     "name": "stdout",
     "output_type": "stream",
     "text": [
      "apple\n",
      "banana\n"
     ]
    }
   ],
   "source": [
    "fruits=[\"apple\",\"banana\",\"cherry\"]\n",
    "for x in fruits:\n",
    "  print(x)\n",
    "  if x==\"banana\":\n",
    "    break"
   ]
  },
  {
   "cell_type": "code",
   "execution_count": null,
   "metadata": {
    "colab": {
     "base_uri": "https://localhost:8080/"
    },
    "executionInfo": {
     "elapsed": 31,
     "status": "ok",
     "timestamp": 1748267187717,
     "user": {
      "displayName": "Swetha Kutty 57",
      "userId": "01458330665663423213"
     },
     "user_tz": -330
    },
    "id": "ZIQ5Vir81Y9H",
    "outputId": "4e45d441-fc00-4b2d-8628-93426008fd72"
   },
   "outputs": [
    {
     "name": "stdout",
     "output_type": "stream",
     "text": [
      "0\n",
      "1\n",
      "2\n",
      "3\n",
      "4\n",
      "5\n"
     ]
    }
   ],
   "source": [
    "for x in range(6):\n",
    "  print(x)"
   ]
  },
  {
   "cell_type": "code",
   "execution_count": null,
   "metadata": {
    "colab": {
     "base_uri": "https://localhost:8080/"
    },
    "executionInfo": {
     "elapsed": 35,
     "status": "ok",
     "timestamp": 1748267192370,
     "user": {
      "displayName": "Swetha Kutty 57",
      "userId": "01458330665663423213"
     },
     "user_tz": -330
    },
    "id": "R9dlXPa418aR",
    "outputId": "e14a5946-89da-408b-96f9-2f9e655a0646"
   },
   "outputs": [
    {
     "name": "stdout",
     "output_type": "stream",
     "text": [
      "2\n",
      "5\n",
      "8\n",
      "11\n",
      "14\n",
      "17\n",
      "20\n",
      "23\n",
      "26\n",
      "29\n"
     ]
    }
   ],
   "source": [
    "for x in range(2,30,3):\n",
    "  print(x)"
   ]
  },
  {
   "cell_type": "code",
   "execution_count": null,
   "metadata": {
    "colab": {
     "base_uri": "https://localhost:8080/"
    },
    "executionInfo": {
     "elapsed": 52,
     "status": "ok",
     "timestamp": 1748267220215,
     "user": {
      "displayName": "Swetha Kutty 57",
      "userId": "01458330665663423213"
     },
     "user_tz": -330
    },
    "id": "BilVGoMi2F6L",
    "outputId": "950085af-805c-4042-f046-9671b5a3686c"
   },
   "outputs": [
    {
     "name": "stdout",
     "output_type": "stream",
     "text": [
      "2\n",
      "3\n",
      "4\n",
      "5\n"
     ]
    }
   ],
   "source": [
    "for x in range(2,6):\n",
    "  print(x)"
   ]
  },
  {
   "cell_type": "code",
   "execution_count": null,
   "metadata": {
    "colab": {
     "base_uri": "https://localhost:8080/"
    },
    "executionInfo": {
     "elapsed": 14,
     "status": "ok",
     "timestamp": 1748270589914,
     "user": {
      "displayName": "Swetha Kutty 57",
      "userId": "01458330665663423213"
     },
     "user_tz": -330
    },
    "id": "rhjcLfok2O9N",
    "outputId": "64b4e0e5-4e97-4326-fb60-26533601ad98"
   },
   "outputs": [
    {
     "name": "stdout",
     "output_type": "stream",
     "text": [
      "hello from a function\n"
     ]
    }
   ],
   "source": [
    "def my_function(fname):\n",
    "  print(fname)\n",
    "my_function(\"hello from a function\")"
   ]
  },
  {
   "cell_type": "code",
   "execution_count": null,
   "metadata": {
    "colab": {
     "base_uri": "https://localhost:8080/"
    },
    "executionInfo": {
     "elapsed": 66,
     "status": "ok",
     "timestamp": 1748267522646,
     "user": {
      "displayName": "Swetha Kutty 57",
      "userId": "01458330665663423213"
     },
     "user_tz": -330
    },
    "id": "v3PHreg62v6a",
    "outputId": "229a8f42-723f-4ecd-99fa-1e1df85e9141"
   },
   "outputs": [
    {
     "name": "stdout",
     "output_type": "stream",
     "text": [
      "EmilRefsnes\n",
      "TobiasRefsnes\n",
      "LinusRefsnes\n"
     ]
    }
   ],
   "source": [
    "def my_function(fname):\n",
    "  print(fname+\"Refsnes\")\n",
    "my_function(\"Emil\")\n",
    "my_function(\"Tobias\")\n",
    "my_function(\"Linus\")"
   ]
  },
  {
   "cell_type": "code",
   "execution_count": null,
   "metadata": {
    "colab": {
     "base_uri": "https://localhost:8080/"
    },
    "executionInfo": {
     "elapsed": 29,
     "status": "ok",
     "timestamp": 1748268005661,
     "user": {
      "displayName": "Swetha Kutty 57",
      "userId": "01458330665663423213"
     },
     "user_tz": -330
    },
    "id": "MvxqEjhs5Fcq",
    "outputId": "ae436961-be60-4b8f-ed66-c3a3b43434af"
   },
   "outputs": [
    {
     "name": "stdout",
     "output_type": "stream",
     "text": [
      "Emil Refsnes\n"
     ]
    }
   ],
   "source": [
    "def my_function(fname,lname):\n",
    "  print(fname+\" \"+lname)\n",
    "my_function(\"Emil\",\"Refsnes\")"
   ]
  },
  {
   "cell_type": "code",
   "execution_count": null,
   "metadata": {
    "colab": {
     "base_uri": "https://localhost:8080/"
    },
    "executionInfo": {
     "elapsed": 14,
     "status": "ok",
     "timestamp": 1748268557307,
     "user": {
      "displayName": "Swetha Kutty 57",
      "userId": "01458330665663423213"
     },
     "user_tz": -330
    },
    "id": "smtcbp8K5OoK",
    "outputId": "fa1f4325-069f-4a7a-e9fe-0bdd0e385f19"
   },
   "outputs": [
    {
     "name": "stdout",
     "output_type": "stream",
     "text": [
      "5\n"
     ]
    }
   ],
   "source": [
    "class MyClass:\n",
    "  x=5\n",
    "  p1=MyClass()\n",
    "  print(p1.x)"
   ]
  },
  {
   "cell_type": "code",
   "execution_count": null,
   "metadata": {
    "colab": {
     "base_uri": "https://localhost:8080/"
    },
    "executionInfo": {
     "elapsed": 64,
     "status": "ok",
     "timestamp": 1748268602321,
     "user": {
      "displayName": "Swetha Kutty 57",
      "userId": "01458330665663423213"
     },
     "user_tz": -330
    },
    "id": "idgUtvL56NYU",
    "outputId": "269702ca-7d71-4522-b8c0-5cb7c8b9b402"
   },
   "outputs": [
    {
     "name": "stdout",
     "output_type": "stream",
     "text": [
      "John\n",
      "36\n"
     ]
    }
   ],
   "source": [
    "class Person:\n",
    "  def __init__(self,name,age):\n",
    "    self.name=name\n",
    "    self.age=age\n",
    "p1=Person(\"John\",36)\n",
    "print(p1.name)\n",
    "print(p1.age)"
   ]
  },
  {
   "cell_type": "code",
   "execution_count": 6,
   "metadata": {
    "colab": {
     "base_uri": "https://localhost:8080/"
    },
    "executionInfo": {
     "elapsed": 44,
     "status": "ok",
     "timestamp": 1748323411258,
     "user": {
      "displayName": "Swetha Kutty 57",
      "userId": "01458330665663423213"
     },
     "user_tz": -330
    },
    "id": "UXVnICOMIOXA",
    "outputId": "741957e7-9dcc-4ae1-ac4d-3b919cbaf836"
   },
   "outputs": [
    {
     "name": "stdout",
     "output_type": "stream",
     "text": [
      "300\n"
     ]
    }
   ],
   "source": [
    "def myfunc():\n",
    "  x = 300\n",
    "  print(x)\n",
    "\n",
    "myfunc()"
   ]
  },
  {
   "cell_type": "code",
   "execution_count": 7,
   "metadata": {
    "colab": {
     "base_uri": "https://localhost:8080/"
    },
    "executionInfo": {
     "elapsed": 29,
     "status": "ok",
     "timestamp": 1748323460780,
     "user": {
      "displayName": "Swetha Kutty 57",
      "userId": "01458330665663423213"
     },
     "user_tz": -330
    },
    "id": "DW8D9HAw7-nS",
    "outputId": "3b7761f8-42e9-45ac-d934-d7b6239a5940"
   },
   "outputs": [
    {
     "name": "stdout",
     "output_type": "stream",
     "text": [
      "300\n"
     ]
    }
   ],
   "source": [
    "def myfunc():\n",
    "  x=300\n",
    "  def myinnerfunc():\n",
    "    print(x)\n",
    "  myinnerfunc()\n",
    "\n",
    "myfunc()"
   ]
  },
  {
   "cell_type": "code",
   "execution_count": 4,
   "metadata": {
    "colab": {
     "base_uri": "https://localhost:8080/"
    },
    "executionInfo": {
     "elapsed": 39,
     "status": "ok",
     "timestamp": 1748323404183,
     "user": {
      "displayName": "Swetha Kutty 57",
      "userId": "01458330665663423213"
     },
     "user_tz": -330
    },
    "id": "D4BDcEjV8YzC",
    "outputId": "38b08b1f-b4c9-4cd2-f513-3675f0853863"
   },
   "outputs": [
    {
     "name": "stdout",
     "output_type": "stream",
     "text": [
      "300\n",
      "300\n"
     ]
    }
   ],
   "source": [
    "x=300\n",
    "def myfunc():\n",
    "  print(x)\n",
    "\n",
    "myfunc()\n",
    "\n",
    "print(x)"
   ]
  },
  {
   "cell_type": "code",
   "execution_count": 3,
   "metadata": {
    "colab": {
     "base_uri": "https://localhost:8080/"
    },
    "executionInfo": {
     "elapsed": 55,
     "status": "ok",
     "timestamp": 1748323400643,
     "user": {
      "displayName": "Swetha Kutty 57",
      "userId": "01458330665663423213"
     },
     "user_tz": -330
    },
    "id": "j7bU5A7U8nX_",
    "outputId": "c6e1b4b8-b42e-44b0-8837-a9c5b575c57c"
   },
   "outputs": [
    {
     "name": "stdout",
     "output_type": "stream",
     "text": [
      "200\n",
      "300\n"
     ]
    }
   ],
   "source": [
    "x=300\n",
    "def myfunc():\n",
    "  x=200\n",
    "  print(x)\n",
    "\n",
    "myfunc()\n",
    "\n",
    "print(x)"
   ]
  },
  {
   "cell_type": "code",
   "execution_count": 2,
   "metadata": {
    "colab": {
     "base_uri": "https://localhost:8080/"
    },
    "executionInfo": {
     "elapsed": 34,
     "status": "ok",
     "timestamp": 1748323396496,
     "user": {
      "displayName": "Swetha Kutty 57",
      "userId": "01458330665663423213"
     },
     "user_tz": -330
    },
    "id": "ycpf-TvS89YA",
    "outputId": "d9f5f58d-8843-4beb-a2a4-d36de790608e"
   },
   "outputs": [
    {
     "name": "stdout",
     "output_type": "stream",
     "text": [
      "300\n"
     ]
    }
   ],
   "source": [
    "def myfunc():\n",
    "  global x\n",
    "  x=300\n",
    "\n",
    "myfunc()\n",
    "\n",
    "print(x)"
   ]
  },
  {
   "cell_type": "code",
   "execution_count": 1,
   "metadata": {
    "colab": {
     "base_uri": "https://localhost:8080/"
    },
    "executionInfo": {
     "elapsed": 6756,
     "status": "ok",
     "timestamp": 1748323393109,
     "user": {
      "displayName": "Swetha Kutty 57",
      "userId": "01458330665663423213"
     },
     "user_tz": -330
    },
    "id": "FH8ev7dX9PSt",
    "outputId": "f71735a6-bbe6-4419-f053-66726f0956f0"
   },
   "outputs": [
    {
     "name": "stdout",
     "output_type": "stream",
     "text": [
      "Enter your name:kalaivani\n",
      " hellokalaivani\n"
     ]
    }
   ],
   "source": [
    "name=input(\"Enter your name:\")\n",
    "print(f\" hello{name}\")"
   ]
  }
 ],
 "metadata": {
  "colab": {
   "authorship_tag": "ABX9TyO+xRxegBiBmBHV78nDLQo8",
   "provenance": []
  },
  "kernelspec": {
   "display_name": "Python [conda env:anaconda3]",
   "language": "python",
   "name": "conda-env-anaconda3-py"
  },
  "language_info": {
   "codemirror_mode": {
    "name": "ipython",
    "version": 3
   },
   "file_extension": ".py",
   "mimetype": "text/x-python",
   "name": "python",
   "nbconvert_exporter": "python",
   "pygments_lexer": "ipython3",
   "version": "3.12.7"
  }
 },
 "nbformat": 4,
 "nbformat_minor": 4
}
